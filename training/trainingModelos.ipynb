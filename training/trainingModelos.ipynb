{
  "cells": [
    {
      "cell_type": "code",
      "execution_count": 6,
      "metadata": {
        "id": "RwXVXzfby80r"
      },
      "outputs": [],
      "source": [
        "import pandas as pd\n",
        "import tensorflow as tf\n",
        "from tensorflow import keras\n",
        "from tensorflow.keras.preprocessing.text import Tokenizer\n",
        "from tensorflow.keras.preprocessing.sequence import pad_sequences\n",
        "import numpy as np\n",
        "import nltk\n",
        "import os\n",
        "import nltk.corpus\n"
      ]
    },
    {
      "cell_type": "code",
      "execution_count": null,
      "metadata": {
        "colab": {
          "base_uri": "https://localhost:8080/",
          "height": 424
        },
        "id": "YsG3dyky6ahK",
        "outputId": "9f631e49-f7aa-480f-90f7-85d2217b40d6"
      },
      "outputs": [],
      "source": [
        "\n",
        "df = pd.read_csv('IMDB Dataset.csv', header=0, sep=\",\")\n",
        "\n",
        "df = df.iloc[690:4690] #no correr mas de una vez\n",
        "df['sentiment'] = df['sentiment'].replace({'negative': 0, 'positive': 1})\n",
        "\n",
        "nltk.download('punkt')\n",
        "nltk.download('punkt_tab')"
      ]
    },
    {
      "cell_type": "code",
      "execution_count": null,
      "metadata": {
        "colab": {
          "base_uri": "https://localhost:8080/"
        },
        "id": "5T1dFKSamP_f",
        "outputId": "30d5d9a7-2600-44bf-ce5b-7beebe165a95"
      },
      "outputs": [],
      "source": [
        "from nltk.tokenize import word_tokenize\n",
        "def tokenization(text):\n",
        "  tokens = word_tokenize(text.lower())\n",
        "  return tokens\n",
        "\n",
        "from nltk import word_tokenize\n",
        "from nltk.corpus import stopwords\n",
        "nltk.download('stopwords')\n",
        "def stopWords(tokens):\n",
        "  a = set(stopwords.words(\"english\"))\n",
        "  text1 = [x.lower() for x in tokens]\n",
        "  sws = [x for x in text1 if x not in a]\n",
        "  return sws\n",
        "\n",
        "from nltk.stem import PorterStemmer\n",
        "def stemming(tokens):\n",
        "  pst = PorterStemmer()\n",
        "  text = []\n",
        "  for word in tokens:\n",
        "    text.append(pst.stem(word))\n",
        "  return text\n"
      ]
    },
    {
      "cell_type": "code",
      "execution_count": 9,
      "metadata": {
        "id": "yWtLqb0UKJ-d"
      },
      "outputs": [],
      "source": [
        "df2 = df\n",
        "df2['review'] = df2['review'].apply(tokenization)\n",
        "df2['review'] = df2['review'].apply(stopWords)\n",
        "df2['review'] = df2['review'].apply(stemming)"
      ]
    },
    {
      "cell_type": "code",
      "execution_count": null,
      "metadata": {
        "colab": {
          "base_uri": "https://localhost:8080/"
        },
        "id": "nzYxPGuXLMMg",
        "outputId": "725cf21b-5eaf-4f62-a07e-4eef7f324fbc"
      },
      "outputs": [],
      "source": [
        "from sklearn.model_selection import train_test_split\n",
        "X_train2, X_test2, y_train2, y_test2 = train_test_split(df2['review'], df2['sentiment'], test_size=0.2, random_state=99)\n",
        "\n",
        "\n",
        "print(\"Tamaño del conjunto de entrenamiento:\", len(X_train2))\n",
        "print(\"Tamaño del conjunto de prueba:\", len(X_test2))\n"
      ]
    },
    {
      "cell_type": "code",
      "execution_count": null,
      "metadata": {
        "colab": {
          "base_uri": "https://localhost:8080/"
        },
        "id": "JFA9d2o8-nMc",
        "outputId": "b67d4e78-53e5-4323-f991-49ca22b996f8"
      },
      "outputs": [],
      "source": [
        "!pip install nlpaug\n",
        "nltk.download('wordnet')\n",
        "nltk.download('omw-1.4')\n",
        "import random\n",
        "import nlpaug.augmenter.word as naw"
      ]
    },
    {
      "cell_type": "code",
      "execution_count": null,
      "metadata": {
        "colab": {
          "base_uri": "https://localhost:8080/"
        },
        "id": "ZPacrj1XEAc1",
        "outputId": "a28426e7-69ea-4304-affb-639b01eacc59"
      },
      "outputs": [],
      "source": [
        "df3 = pd.read_csv('IMDB Dataset.csv', header=0, sep=\",\")\n",
        "df3 = df3.iloc[690:4690]\n",
        "df3['sentiment'] = df3['sentiment'].replace({'negative': 0, 'positive': 1})\n",
        "\n",
        "##df3.to_csv('non_augmented_data.csv', index=False)\n",
        "\n",
        "df3['review'] = df3['review'].apply(tokenization)\n",
        "df3['review'] = df3['review'].apply(stopWords)\n",
        "\n",
        "from nltk.corpus import wordnet\n",
        "\n",
        "def get_synonym(word):\n",
        "    synonyms = wordnet.synsets(word)\n",
        "    if synonyms:\n",
        "        lemmas = synonyms[0].lemmas()\n",
        "        for lemma in lemmas:\n",
        "            if lemma.name().lower() != word.lower():\n",
        "                return lemma.name().replace('_', ' ')\n",
        "    return word\n",
        "\n",
        "augmented_data = []\n",
        "\n",
        "for index, row in df3.iterrows():\n",
        "    text = row['review']\n",
        "    label = row['sentiment']\n",
        "    if isinstance(text, list) and len(text) >= 3:\n",
        "        chosen_words = random.sample(text, 3)\n",
        "    else:\n",
        "        chosen_words = text\n",
        "\n",
        "    new_words = []\n",
        "    for w in text:\n",
        "      if w in chosen_words:\n",
        "        new_words.append(get_synonym(w))\n",
        "      else:\n",
        "        new_words.append(w)\n",
        "    augmented_data.extend([(new_words, label)])\n",
        "\n",
        "    new_words = text.copy()\n",
        "    idx1, idx2 = random.sample(range(len(text)), 2)\n",
        "    new_words[idx1], new_words[idx2] = new_words[idx2], new_words[idx1]\n",
        "    augmented_data.extend([(new_words, label)])\n",
        "\n",
        "augmented_df = pd.DataFrame(augmented_data, columns=['review', 'sentiment'])\n",
        "final_df = pd.concat([df3, augmented_df], ignore_index=True)"
      ]
    },
    {
      "cell_type": "code",
      "execution_count": 13,
      "metadata": {
        "colab": {
          "base_uri": "https://localhost:8080/",
          "height": 458
        },
        "id": "N45q3LpZNWqF",
        "outputId": "a914b7ba-069f-4255-abe7-0159e463ce63"
      },
      "outputs": [
        {
          "name": "stdout",
          "output_type": "stream",
          "text": [
            "Tamaño del conjunto de entrenamiento: 9600\n",
            "Tamaño del conjunto de prueba: 2400\n"
          ]
        }
      ],
      "source": [
        "final_df['review'] = final_df['review'].apply(stemming)\n",
        "\n",
        "X_train3, X_test3, y_train3, y_test3 = train_test_split(final_df['review'], final_df['sentiment'], test_size=0.2, random_state=99)\n",
        "\n",
        "\n",
        "# Ahora puedes usar train_df para entrenar y test_df para evaluar tu modelo\n",
        "print(\"Tamaño del conjunto de entrenamiento:\", len(X_train3))\n",
        "print(\"Tamaño del conjunto de prueba:\", len(X_test3))"
      ]
    },
    {
      "cell_type": "code",
      "execution_count": null,
      "metadata": {
        "colab": {
          "base_uri": "https://localhost:8080/"
        },
        "id": "vg2tLrpvOicV",
        "outputId": "c26180ae-53e3-4455-ee88-06461a0c7de9"
      },
      "outputs": [
        {
          "name": "stderr",
          "output_type": "stream",
          "text": [
            "C:\\Users\\Wert\\AppData\\Roaming\\Python\\Python312\\site-packages\\keras\\src\\layers\\core\\embedding.py:97: UserWarning: Argument `input_length` is deprecated. Just remove it.\n",
            "  warnings.warn(\n"
          ]
        },
        {
          "name": "stdout",
          "output_type": "stream",
          "text": [
            "\u001b[1m300/300\u001b[0m \u001b[32m━━━━━━━━━━━━━━━━━━━━\u001b[0m\u001b[37m\u001b[0m \u001b[1m56s\u001b[0m 180ms/step - accuracy: 0.6212 - loss: 0.6306\n"
          ]
        },
        {
          "data": {
            "text/plain": [
              "<keras.src.callbacks.history.History at 0x25a94c04e60>"
            ]
          },
          "execution_count": 14,
          "metadata": {},
          "output_type": "execute_result"
        }
      ],
      "source": [
        "# Preprocesamiento del texto\n",
        "tokenizer = Tokenizer(num_words=200) # Ajusta el número de palabras según tus datos\n",
        "tokenizer.fit_on_texts(X_train3)\n",
        "secuencias = tokenizer.texts_to_sequences(X_train3)\n",
        "secuencias_padding = pad_sequences(secuencias)\n",
        "\n",
        "# Definir el modelo LSTM\n",
        "modelo = keras.Sequential([\n",
        "    keras.layers.Embedding(200, 30, input_length=secuencias_padding.shape[1]),\n",
        "    keras.layers.LSTM(64, return_sequences=True),\n",
        "    keras.layers.LSTM(32),\n",
        "    keras.layers.Dense(1, activation='sigmoid')\n",
        "])\n",
        "\n",
        "# Compilar el modelo\n",
        "modelo.compile(optimizer='adam',\n",
        "              loss='binary_crossentropy',\n",
        "              metrics=['accuracy'])\n",
        "\n",
        "# Entrenar el modelo\n",
        "modelo.fit(secuencias_padding, y_train3, epochs=1) # Ajusta el número de épocas según tus datos"
      ]
    },
    {
      "cell_type": "code",
      "execution_count": 15,
      "metadata": {
        "colab": {
          "base_uri": "https://localhost:8080/",
          "height": 651
        },
        "id": "v-l86XweOwf9",
        "outputId": "47266491-4f51-42a2-c58f-6a4f989d4f09"
      },
      "outputs": [
        {
          "name": "stdout",
          "output_type": "stream",
          "text": [
            "\u001b[1m75/75\u001b[0m \u001b[32m━━━━━━━━━━━━━━━━━━━━\u001b[0m\u001b[37m\u001b[0m \u001b[1m5s\u001b[0m 70ms/step\n",
            "Exactitud: 0.7508333333333334\n",
            "Precisión: 0.7573822825219473\n",
            "Sensibilidad (Recall): 0.7634754625905068\n",
            "Puntuación F1: 0.7604166666666666\n"
          ]
        },
        {
          "data": {
            "image/png": "[encoded data removed]",
            "text/plain": [
              "<Figure size 800x600 with 2 Axes>"
            ]
          },
          "metadata": {},
          "output_type": "display_data"
        }
      ],
      "source": [
        "import numpy as np\n",
        "from sklearn.metrics import confusion_matrix, accuracy_score, precision_score, recall_score, f1_score, roc_auc_score\n",
        "import matplotlib.pyplot as plt\n",
        "import seaborn as sns\n",
        "\n",
        "secuencia_nueva = tokenizer.texts_to_sequences(X_test3)\n",
        "secuencia_padding_nueva = pad_sequences(secuencia_nueva, maxlen=secuencias_padding.shape[1]) # Asegúrate de que tenga la misma longitud que las secuencias de entrenamiento\n",
        "y_predict = modelo.predict(secuencia_padding_nueva)\n",
        "\n",
        "# Convertir las probabilidades predichas a clases (0 o 1)\n",
        "y_pred_classes = (y_predict > 0.5).astype(int)\n",
        "\n",
        "# Calcular las métricas\n",
        "accuracy = accuracy_score(y_test3, y_pred_classes)\n",
        "precision = precision_score(y_test3, y_pred_classes)\n",
        "recall = recall_score(y_test3, y_pred_classes)\n",
        "f1 = f1_score(y_test3, y_pred_classes)\n",
        "\n",
        "print(f\"Exactitud: {accuracy}\")\n",
        "print(f\"Precisión: {precision}\")\n",
        "print(f\"Sensibilidad (Recall): {recall}\")\n",
        "print(f\"Puntuación F1: {f1}\")\n",
        "\n",
        "\n",
        "# Calcular la matriz de confusión\n",
        "conf_matrix = confusion_matrix(y_test3, y_pred_classes)\n",
        "\n",
        "# Visualizar la matriz de confusión\n",
        "plt.figure(figsize=(8, 6))\n",
        "sns.heatmap(conf_matrix, annot=True, fmt=\"d\", cmap=\"Blues\",\n",
        "            xticklabels=[\"Positiva\", \"Negativa\"], yticklabels=[\"Positiva\", \"Negativa\"])\n",
        "plt.xlabel(\"Predicción\")\n",
        "plt.ylabel(\"Valor Real\")\n",
        "plt.title(\"Matriz de Confusión\")\n",
        "plt.show()"
      ]
    }
  ],
  "metadata": {
    "accelerator": "GPU",
    "colab": {
      "gpuType": "L4",
      "provenance": []
    },
    "kernelspec": {
      "display_name": "Python 3",
      "name": "python3"
    },
    "language_info": {
      "codemirror_mode": {
        "name": "ipython",
        "version": 3
      },
      "file_extension": ".py",
      "mimetype": "text/x-python",
      "name": "python",
      "nbconvert_exporter": "python",
      "pygments_lexer": "ipython3",
      "version": "3.12.2"
    }
  },
  "nbformat": 4,
  "nbformat_minor": 0
}
